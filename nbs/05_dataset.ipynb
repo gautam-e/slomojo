{
  "cells": [
    {
      "attachments": {},
      "cell_type": "markdown",
      "metadata": {},
      "source": [
        "---\n",
        "skip_showdoc: true\n",
        "---"
      ]
    },
    {
      "attachments": {},
      "cell_type": "markdown",
      "metadata": {},
      "source": [
        "# 🔥 Dataset struct"
      ]
    },
    {
      "cell_type": "code",
      "execution_count": 1,
      "metadata": {},
      "outputs": [],
      "source": [
        "from PythonInterface import Python\n",
        "\n",
        "let pathlib = Python.import_module(\"pathlib\") # Python standard library\n",
        "let gzip = Python.import_module(\"gzip\") # Python standard library\n",
        "let pickle = Python.import_module(\"pickle\") # Python standard library\n",
        "let np = Python.import_module(\"numpy\")"
      ]
    },
    {
      "cell_type": "code",
      "execution_count": 2,
      "metadata": {},
      "outputs": [],
      "source": [
        "path_gz = pathlib.Path('./lost+found/data/mnist.pkl.gz')\n",
        "f = gzip.open(path_gz, 'rb')\n",
        "u = pickle._Unpickler(f)\n",
        "u.encoding = 'latin1'\n",
        "data = u.load()\n",
        "\n",
        "data_train = data[0]\n",
        "data_valid = data[1]\n",
        "\n",
        "x_train = data_train[0]\n",
        "y_train = data_train[1]\n",
        "y_train = np.expand_dims(y_train, 1)\n",
        "\n",
        "x_valid = data_valid[0]\n",
        "y_valid = data_valid[1]\n",
        "y_valid = np.expand_dims(y_valid, 1)\n",
        "f.close()"
      ]
    },
    {
      "cell_type": "code",
      "execution_count": 3,
      "metadata": {},
      "outputs": [],
      "source": [
        "from DType import DType\n",
        "from Memory import memset_zero\n",
        "from Object import object, Attr\n",
        "from Pointer import DTypePointer, Pointer\n",
        "from Random import rand\n",
        "from Range import range\n",
        "from TargetInfo import dtype_sizeof\n",
        "\n",
        "struct Matrix[type: DType]:\n",
        "    var data: DTypePointer[type]\n",
        "    var rows: Int\n",
        "    var cols: Int\n",
        "\n",
        "    fn __init__(inout self, rows: Int, cols: Int):\n",
        "        self.data = DTypePointer[type].alloc(rows * cols)\n",
        "        rand(self.data, rows*cols)\n",
        "        self.rows = rows\n",
        "        self.cols = cols\n",
        "\n",
        "    fn __copyinit__(inout self, other: Self):\n",
        "        self.data = other.data\n",
        "        self.rows = other.rows\n",
        "        self.cols = other.cols\n",
        "\n",
        "    fn __del__(owned self):\n",
        "        self.data.free()\n",
        "\n",
        "    fn zero(inout self):\n",
        "        memset_zero(self.data, self.rows * self.cols)\n",
        "\n",
        "    @always_inline\n",
        "    fn __getitem__(self, y: Int, x: Int) -> SIMD[type, 1]:\n",
        "        return self.load[1](y, x)\n",
        "\n",
        "    @always_inline\n",
        "    fn load[nelts:Int](self, y: Int, x: Int) -> SIMD[type, nelts]:\n",
        "        return self.data.simd_load[nelts](y * self.cols + x)\n",
        "\n",
        "    @always_inline\n",
        "    fn __setitem__(self, y: Int, x: Int, val: SIMD[type, 1]):\n",
        "        return self.store[1](y, x, val)\n",
        "\n",
        "    @always_inline\n",
        "    fn store[nelts:Int](self, y: Int, x: Int, val: SIMD[type, nelts]):\n",
        "        self.data.simd_store[nelts](y * self.cols + x, val)"
      ]
    },
    {
      "cell_type": "code",
      "execution_count": 4,
      "metadata": {},
      "outputs": [],
      "source": [
        "@value\n",
        "struct Dataset[type: DType, n_feats: Int]:\n",
        "    var np_x: PythonObject\n",
        "    var np_y: PythonObject\n",
        "    var x: Matrix[type] \n",
        "    var y: Matrix[type]\n",
        "    var len: Int\n",
        "\n",
        "    fn __init__(inout self, np_x:PythonObject, np_y:PythonObject) raises:\n",
        "        self.np_x = np_x\n",
        "        self.np_y = np_y\n",
        "        self.x = Matrix[type](1,n_feats)\n",
        "        self.x.zero()\n",
        "        self.y = Matrix[type](1,1)\n",
        "        self.y.zero()\n",
        "        self.len = np_x.shape[0].__index__()\n",
        "\n",
        "    fn __len__(self) -> Int:\n",
        "        return self.len\n",
        "\n",
        "    fn __getitem__(self, i: Int) raises -> Tuple[Matrix[type], Matrix[type]]:\n",
        "        self.y[0,0] = self.np_y[i][0].to_float64().cast[type]()\n",
        "        for j in range(n_feats):\n",
        "            self.x[i,j] = self.np_x[i][j].to_float64().cast[type]()\n",
        "        return Tuple(self.x, self.y)"
      ]
    },
    {
      "cell_type": "code",
      "execution_count": 5,
      "metadata": {},
      "outputs": [
        {
          "name": "stdout",
          "output_type": "stream",
          "text": [
            "50000\n",
            "2\n"
          ]
        }
      ],
      "source": [
        "var ds = Dataset[DType.float32, 28*28](x_train, y_train)\n",
        "print(ds.__len__())\n",
        "var ds_item = ds[5]\n",
        "print(ds_item.__len__())"
      ]
    },
    {
      "attachments": {},
      "cell_type": "markdown",
      "metadata": {},
      "source": [
        "Let's take a stab at creating a Dataloader."
      ]
    },
    {
      "cell_type": "code",
      "execution_count": 7,
      "metadata": {},
      "outputs": [
        {
          "name": "stderr",
          "output_type": "stream",
          "text": [
            "error: \u001b[0;1;31m\u001b[1mExpression [7]:49:57: \u001b[0m\u001b[1minvalid call to 'get': result cannot bind generic !mlirtype to memory-only type 'Matrix'\n",
            "\u001b[0m                self.xb[i,j] = self.ds[i].get[0, Matrix]()[0,j]\n",
            "\u001b[0;1;32m                               ~~~~~~~~~~~~~~~~~~~~~~~~~^~\n",
            "\u001b[0m\u001b[0m\n",
            "\u001b[0;1;30m\u001b[1m/.modular/Kernels/mojo/Builtin/Tuple.mojo:58:5: \u001b[0m\u001b[1mfunction declared here\n",
            "\u001b[0m    fn get[i: Int, T: AnyType](self) -> T:\n",
            "\u001b[0;1;32m    ^\n",
            "\u001b[0m\u001b[0m\n",
            "expression failed to parse (no further compiler diagnostics)"
          ]
        }
      ],
      "source": [
        "@value\n",
        "struct Dataloader[type: DType, n_feats: Int]:\n",
        "    var len: Int\n",
        "    var bs: Int\n",
        "    var ds: Dataset[type, n_feats]\n",
        "    var current: Int\n",
        "    var xb: Matrix[type] \n",
        "    var yb: Matrix[type]\n",
        "\n",
        "    fn __init__(inout self, ds: Dataset[type, n_feats], bs: Int):\n",
        "        self.ds = ds\n",
        "        self.bs = bs\n",
        "        self.len = ds.__len__()//bs\n",
        "        self.current = 0\n",
        "        self.xb = Matrix[type](bs,n_feats)\n",
        "        self.xb.zero()\n",
        "        self.yb = Matrix[type](bs,1)\n",
        "        self.yb.zero()\n",
        "\n",
        "    fn __len__(self) -> Int:\n",
        "        return self.len\n",
        "\n",
        "    fn __iter__(self) -> Self:\n",
        "        return self\n",
        "\n",
        "    fn __next__(inout self) raises -> Matrix[type]:\n",
        "        self.len = self.len - 1\n",
        "        for i in range(self.current*self.bs, (self.current+1)*self.bs):\n",
        "            for j in range(n_feats):\n",
        "                self.xb[i,j] = self.ds[i].get[0, Matrix]()[0,j]\n",
        "        self.current = self.current + 1\n",
        "        return self.xb"
      ]
    }
  ],
  "metadata": {
    "kernelspec": {
      "display_name": "python3",
      "language": "python",
      "name": "python3"
    },
    "orig_nbformat": 4
  },
  "nbformat": 4,
  "nbformat_minor": 2
}
