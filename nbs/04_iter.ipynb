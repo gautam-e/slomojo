{
 "cells": [
  {
   "cell_type": "markdown",
   "metadata": {},
   "source": [
    "---\n",
    "skip_showdoc: true\n",
    "---"
   ]
  },
  {
   "cell_type": "markdown",
   "metadata": {},
   "source": [
    "# 🔥 Iterator"
   ]
  },
  {
   "cell_type": "markdown",
   "metadata": {},
   "source": [
    "Machine learning uses iterators extensively (e.g. for Dataloaders). So lets explore how iterators work in Mojo and build one ourself. "
   ]
  },
  {
   "cell_type": "markdown",
   "metadata": {},
   "source": [
    "Firstly let's look at how to implement a simple iterator in Python and then use that as a starting point for a Mojo implementation."
   ]
  },
  {
   "cell_type": "code",
   "execution_count": null,
   "metadata": {},
   "outputs": [
    {
     "name": "stdout",
     "output_type": "stream",
     "text": [
      "3\n",
      "4\n",
      "5\n",
      "6\n",
      "7\n",
      "8\n"
     ]
    }
   ],
   "source": [
    "%%python\n",
    "class Counter:\n",
    "    def __init__(self, low, high):\n",
    "        self.current = low - 1\n",
    "        self.high = high\n",
    "\n",
    "    def __iter__(self):\n",
    "        return self\n",
    "\n",
    "    def __next__(self): # Python 2: def next(self)\n",
    "        self.current += 1\n",
    "        if self.current < self.high:\n",
    "            return self.current\n",
    "        raise StopIteration\n",
    "\n",
    "\n",
    "for c in Counter(3, 9):\n",
    "    print(c)"
   ]
  },
  {
   "cell_type": "markdown",
   "metadata": {},
   "source": [
    "Now in Mojo it is similar to Python in that we define a `__iter__` and a `__next__`. However, Mojo doesn't understand the `StopIteration` exception (that the `__next__` in the Python implementation returns)! \n",
    "So how do we tell Mojo that the Iterator has reached the end? \n",
    "As per the [Mojo Changelog](https://docs.modular.com/mojo/changelog.html#week-of-2023-01-23), the control flow exits automatically when the length is zero.  \n",
    "So, we need to implement a `__len__` and make sure it decrements with every call to `__next__`."
   ]
  },
  {
   "cell_type": "code",
   "execution_count": null,
   "metadata": {},
   "outputs": [
    {
     "name": "stdout",
     "output_type": "stream",
     "text": [
      "3\n",
      "4\n",
      "5\n",
      "6\n",
      "7\n",
      "8\n"
     ]
    }
   ],
   "source": [
    "@value\n",
    "struct Counter:\n",
    "    var current: Int\n",
    "    var len: Int\n",
    "\n",
    "    fn __init__(inout self, low: Int, high: Int):\n",
    "        self.current = low - 1\n",
    "        self.len = high - low\n",
    "\n",
    "    fn __len__(self) -> Int:\n",
    "        return self.len\n",
    "\n",
    "    fn __iter__(self) -> Self:\n",
    "        return self\n",
    "\n",
    "    fn __next__(inout self) -> Int: \n",
    "        self.current = self.current + 1\n",
    "        self.len = self.len - 1\n",
    "        return self.current\n",
    "    \n",
    "for c in Counter(3, 9):\n",
    "    print(c)"
   ]
  },
  {
   "cell_type": "markdown",
   "metadata": {},
   "source": [
    "Note that the `@value` decorator is used to avoid the boilerplate for the `__copyinit__` and `__moveinit__` methods. See [mojodojo.dev](https://mojodojo.dev/guides/decorators/value.html) for a short tutorial on the `@value` decorator."
   ]
  }
 ],
 "metadata": {
  "kernelspec": {
   "display_name": "python3",
   "language": "python",
   "name": "python3"
  }
 },
 "nbformat": 4,
 "nbformat_minor": 2
}
