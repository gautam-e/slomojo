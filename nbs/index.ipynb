{
 "cells": [
  {
   "cell_type": "markdown",
   "metadata": {},
   "source": [
    "# slomojo\n",
    "\n",
    "> Learn Mojo 🔥 for ML. "
   ]
  },
  {
   "cell_type": "markdown",
   "metadata": {},
   "source": [
    "This repo is inspired by fastai's approach but does everything in Mojo 🔥.  "
   ]
  },
  {
   "cell_type": "markdown",
   "metadata": {},
   "source": [
    "## Dependencies"
   ]
  },
  {
   "cell_type": "markdown",
   "metadata": {},
   "source": [
    "We will use only the packages available in the Mojo Playground. Those are:\n",
    "\n",
    "- The Python standard library\n",
    "- matplotlib\n",
    "- numpy"
   ]
  },
  {
   "cell_type": "markdown",
   "metadata": {},
   "source": [
    "## Content"
   ]
  },
  {
   "cell_type": "markdown",
   "metadata": {},
   "source": [
    "We will progressively build an MNIST-handwritten-digits classifier:\n",
    "1. Read in the data\n",
    "2. Matrix multiplication from scratch\n",
    "3. Backprop from scratch"
   ]
  }
 ],
 "metadata": {
  "kernelspec": {
   "display_name": "python3",
   "language": "python",
   "name": "python3"
  }
 },
 "nbformat": 4,
 "nbformat_minor": 4
}
