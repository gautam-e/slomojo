{
  "cells": [
    {
      "attachments": {},
      "cell_type": "markdown",
      "metadata": {},
      "source": [
        "# My experiments with 🔥\n",
        "\n",
        "> Practical Mojo for ML"
      ]
    },
    {
      "attachments": {},
      "cell_type": "markdown",
      "metadata": {},
      "source": [
        "This repo is inspired by fastai's approach but does everything slowly, in Mojo 🔥.  "
      ]
    },
    {
      "attachments": {},
      "cell_type": "markdown",
      "metadata": {},
      "source": [
        "## Dependencies"
      ]
    },
    {
      "attachments": {},
      "cell_type": "markdown",
      "metadata": {},
      "source": [
        "We will use only the packages available in the Mojo Playground. Those are:\n",
        "\n",
        "- The Python standard library\n",
        "- matplotlib\n",
        "- numpy"
      ]
    },
    {
      "attachments": {},
      "cell_type": "markdown",
      "metadata": {},
      "source": [
        "## Content"
      ]
    },
    {
      "attachments": {},
      "cell_type": "markdown",
      "metadata": {},
      "source": [
        "Experiments with Mojo:\n",
        "1. Read in the MNIST dataset from numpy  \n",
        "2. Define a linear layer  \n",
        "3. Backprop from scratch  \n",
        "4. Iterators  "
      ]
    }
  ],
  "metadata": {
    "kernelspec": {
      "display_name": "python3",
      "language": "python",
      "name": "python3"
    }
  },
  "nbformat": 4,
  "nbformat_minor": 4
}
